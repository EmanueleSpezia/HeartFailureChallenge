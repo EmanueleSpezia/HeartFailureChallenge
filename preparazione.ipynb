{
 "cells": [
  {
   "cell_type": "code",
   "execution_count": 1,
   "metadata": {},
   "outputs": [
    {
     "name": "stdout",
     "output_type": "stream",
     "text": [
      "Requirement already satisfied: matplotlib==3.1.3 in /home/emanuele/Programmi/anaconda3/lib/python3.7/site-packages (from -r requirements.txt (line 1)) (3.1.3)\n",
      "Requirement already satisfied: numpy==1.18.1 in /home/emanuele/Programmi/anaconda3/lib/python3.7/site-packages (from -r requirements.txt (line 2)) (1.18.1)\n",
      "Requirement already satisfied: pandas==1.0.1 in /home/emanuele/Programmi/anaconda3/lib/python3.7/site-packages (from -r requirements.txt (line 3)) (1.0.1)\n",
      "Requirement already satisfied: scikit_learn==0.22.1 in /home/emanuele/Programmi/anaconda3/lib/python3.7/site-packages (from -r requirements.txt (line 4)) (0.22.1)\n",
      "Requirement already satisfied: seaborn==0.10.0 in /home/emanuele/Programmi/anaconda3/lib/python3.7/site-packages (from -r requirements.txt (line 5)) (0.10.0)\n",
      "Requirement already satisfied: python-dateutil>=2.1 in /home/emanuele/Programmi/anaconda3/lib/python3.7/site-packages (from matplotlib==3.1.3->-r requirements.txt (line 1)) (2.8.1)\n",
      "Requirement already satisfied: pyparsing!=2.0.4,!=2.1.2,!=2.1.6,>=2.0.1 in /home/emanuele/Programmi/anaconda3/lib/python3.7/site-packages (from matplotlib==3.1.3->-r requirements.txt (line 1)) (2.4.6)\n",
      "Requirement already satisfied: cycler>=0.10 in /home/emanuele/Programmi/anaconda3/lib/python3.7/site-packages (from matplotlib==3.1.3->-r requirements.txt (line 1)) (0.10.0)\n",
      "Requirement already satisfied: kiwisolver>=1.0.1 in /home/emanuele/Programmi/anaconda3/lib/python3.7/site-packages (from matplotlib==3.1.3->-r requirements.txt (line 1)) (1.1.0)\n",
      "Requirement already satisfied: pytz>=2017.2 in /home/emanuele/Programmi/anaconda3/lib/python3.7/site-packages (from pandas==1.0.1->-r requirements.txt (line 3)) (2019.3)\n",
      "Requirement already satisfied: scipy>=0.17.0 in /home/emanuele/Programmi/anaconda3/lib/python3.7/site-packages (from scikit_learn==0.22.1->-r requirements.txt (line 4)) (1.4.1)\n",
      "Requirement already satisfied: joblib>=0.11 in /home/emanuele/Programmi/anaconda3/lib/python3.7/site-packages (from scikit_learn==0.22.1->-r requirements.txt (line 4)) (0.14.1)\n",
      "Requirement already satisfied: six>=1.5 in /home/emanuele/Programmi/anaconda3/lib/python3.7/site-packages (from python-dateutil>=2.1->matplotlib==3.1.3->-r requirements.txt (line 1)) (1.14.0)\n",
      "Requirement already satisfied: setuptools in /home/emanuele/Programmi/anaconda3/lib/python3.7/site-packages (from kiwisolver>=1.0.1->matplotlib==3.1.3->-r requirements.txt (line 1)) (45.2.0.post20200210)\n"
     ]
    }
   ],
   "source": [
    "!pip install -r requirements.txt\n",
    "import pandas as pd\n",
    "import numpy as np\n",
    "from sklearn.model_selection import train_test_split"
   ]
  },
  {
   "cell_type": "code",
   "execution_count": 2,
   "metadata": {},
   "outputs": [
    {
     "name": "stdout",
     "output_type": "stream",
     "text": [
      "(239, 13)\n"
     ]
    }
   ],
   "source": [
    "df = pd.read_csv(\"heart_failure_clinical_records_dataset.train.csv\")\n",
    "print(df.shape) "
   ]
  },
  {
   "cell_type": "code",
   "execution_count": 3,
   "metadata": {},
   "outputs": [
    {
     "name": "stdout",
     "output_type": "stream",
     "text": [
      "Dimensione train:  (191, 13)\n",
      "Dimensione test:  (48, 13)\n"
     ]
    }
   ],
   "source": [
    "train, test = train_test_split(df,test_size=0.20)\n",
    "print(\"Dimensione train: \",  train.shape) \n",
    "print(\"Dimensione test: \",  test.shape)"
   ]
  },
  {
   "cell_type": "code",
   "execution_count": 4,
   "metadata": {},
   "outputs": [],
   "source": [
    "train.to_csv('train.csv', index= False)\n",
    "test.to_csv('test.csv', index= False)"
   ]
  },
  {
   "cell_type": "code",
   "execution_count": null,
   "metadata": {},
   "outputs": [],
   "source": []
  }
 ],
 "metadata": {
  "kernelspec": {
   "display_name": "Python 3",
   "language": "python",
   "name": "python3"
  },
  "language_info": {
   "codemirror_mode": {
    "name": "ipython",
    "version": 3
   },
   "file_extension": ".py",
   "mimetype": "text/x-python",
   "name": "python",
   "nbconvert_exporter": "python",
   "pygments_lexer": "ipython3",
   "version": "3.7.6"
  }
 },
 "nbformat": 4,
 "nbformat_minor": 4
}
